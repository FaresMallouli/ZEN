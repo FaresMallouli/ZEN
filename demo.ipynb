{
  "nbformat": 4,
  "nbformat_minor": 0,
  "metadata": {
    "colab": {
      "provenance": []
    },
    "kernelspec": {
      "name": "python3",
      "display_name": "Python 3"
    },
    "language_info": {
      "name": "python"
    },
    "accelerator": "GPU",
    "gpuClass": "standard",
    "widgets": {
      "application/vnd.jupyter.widget-state+json": {
        "935e2cadd48d4af5b42f2be313a35d7b": {
          "model_module": "@jupyter-widgets/controls",
          "model_name": "HBoxModel",
          "model_module_version": "1.5.0",
          "state": {
            "_dom_classes": [],
            "_model_module": "@jupyter-widgets/controls",
            "_model_module_version": "1.5.0",
            "_model_name": "HBoxModel",
            "_view_count": null,
            "_view_module": "@jupyter-widgets/controls",
            "_view_module_version": "1.5.0",
            "_view_name": "HBoxView",
            "box_style": "",
            "children": [
              "IPY_MODEL_ee26c8347fbe417bad2fd5755ea8a39b",
              "IPY_MODEL_dbf31bd33b4248b2aefe4f01d74b3ed3",
              "IPY_MODEL_a21ba26ca55c4dbfb4671a2ef7c2d523"
            ],
            "layout": "IPY_MODEL_1c917ebddc2c4a4ab9763dc787420c8f"
          }
        },
        "ee26c8347fbe417bad2fd5755ea8a39b": {
          "model_module": "@jupyter-widgets/controls",
          "model_name": "HTMLModel",
          "model_module_version": "1.5.0",
          "state": {
            "_dom_classes": [],
            "_model_module": "@jupyter-widgets/controls",
            "_model_module_version": "1.5.0",
            "_model_name": "HTMLModel",
            "_view_count": null,
            "_view_module": "@jupyter-widgets/controls",
            "_view_module_version": "1.5.0",
            "_view_name": "HTMLView",
            "description": "",
            "description_tooltip": null,
            "layout": "IPY_MODEL_10fcd76444a3408d8b6e1e922fd77870",
            "placeholder": "​",
            "style": "IPY_MODEL_97aeb0f612ec4f33abb3b98e147b4b9d",
            "value": "100%"
          }
        },
        "dbf31bd33b4248b2aefe4f01d74b3ed3": {
          "model_module": "@jupyter-widgets/controls",
          "model_name": "FloatProgressModel",
          "model_module_version": "1.5.0",
          "state": {
            "_dom_classes": [],
            "_model_module": "@jupyter-widgets/controls",
            "_model_module_version": "1.5.0",
            "_model_name": "FloatProgressModel",
            "_view_count": null,
            "_view_module": "@jupyter-widgets/controls",
            "_view_module_version": "1.5.0",
            "_view_name": "ProgressView",
            "bar_style": "success",
            "description": "",
            "description_tooltip": null,
            "layout": "IPY_MODEL_a0f7b7df56a542c881add383154c06e2",
            "max": 44096,
            "min": 0,
            "orientation": "horizontal",
            "style": "IPY_MODEL_d598dd45970040969e13b8cba6d2e433",
            "value": 44096
          }
        },
        "a21ba26ca55c4dbfb4671a2ef7c2d523": {
          "model_module": "@jupyter-widgets/controls",
          "model_name": "HTMLModel",
          "model_module_version": "1.5.0",
          "state": {
            "_dom_classes": [],
            "_model_module": "@jupyter-widgets/controls",
            "_model_module_version": "1.5.0",
            "_model_name": "HTMLModel",
            "_view_count": null,
            "_view_module": "@jupyter-widgets/controls",
            "_view_module_version": "1.5.0",
            "_view_name": "HTMLView",
            "description": "",
            "description_tooltip": null,
            "layout": "IPY_MODEL_4b344d9e2cd84db7a0e8cbd116c79352",
            "placeholder": "​",
            "style": "IPY_MODEL_893964bc035e4ac28630960b4d7f1079",
            "value": " 44096/44096 [00:11&lt;00:00, 4062.83it/s]"
          }
        },
        "1c917ebddc2c4a4ab9763dc787420c8f": {
          "model_module": "@jupyter-widgets/base",
          "model_name": "LayoutModel",
          "model_module_version": "1.2.0",
          "state": {
            "_model_module": "@jupyter-widgets/base",
            "_model_module_version": "1.2.0",
            "_model_name": "LayoutModel",
            "_view_count": null,
            "_view_module": "@jupyter-widgets/base",
            "_view_module_version": "1.2.0",
            "_view_name": "LayoutView",
            "align_content": null,
            "align_items": null,
            "align_self": null,
            "border": null,
            "bottom": null,
            "display": null,
            "flex": null,
            "flex_flow": null,
            "grid_area": null,
            "grid_auto_columns": null,
            "grid_auto_flow": null,
            "grid_auto_rows": null,
            "grid_column": null,
            "grid_gap": null,
            "grid_row": null,
            "grid_template_areas": null,
            "grid_template_columns": null,
            "grid_template_rows": null,
            "height": null,
            "justify_content": null,
            "justify_items": null,
            "left": null,
            "margin": null,
            "max_height": null,
            "max_width": null,
            "min_height": null,
            "min_width": null,
            "object_fit": null,
            "object_position": null,
            "order": null,
            "overflow": null,
            "overflow_x": null,
            "overflow_y": null,
            "padding": null,
            "right": null,
            "top": null,
            "visibility": null,
            "width": null
          }
        },
        "10fcd76444a3408d8b6e1e922fd77870": {
          "model_module": "@jupyter-widgets/base",
          "model_name": "LayoutModel",
          "model_module_version": "1.2.0",
          "state": {
            "_model_module": "@jupyter-widgets/base",
            "_model_module_version": "1.2.0",
            "_model_name": "LayoutModel",
            "_view_count": null,
            "_view_module": "@jupyter-widgets/base",
            "_view_module_version": "1.2.0",
            "_view_name": "LayoutView",
            "align_content": null,
            "align_items": null,
            "align_self": null,
            "border": null,
            "bottom": null,
            "display": null,
            "flex": null,
            "flex_flow": null,
            "grid_area": null,
            "grid_auto_columns": null,
            "grid_auto_flow": null,
            "grid_auto_rows": null,
            "grid_column": null,
            "grid_gap": null,
            "grid_row": null,
            "grid_template_areas": null,
            "grid_template_columns": null,
            "grid_template_rows": null,
            "height": null,
            "justify_content": null,
            "justify_items": null,
            "left": null,
            "margin": null,
            "max_height": null,
            "max_width": null,
            "min_height": null,
            "min_width": null,
            "object_fit": null,
            "object_position": null,
            "order": null,
            "overflow": null,
            "overflow_x": null,
            "overflow_y": null,
            "padding": null,
            "right": null,
            "top": null,
            "visibility": null,
            "width": null
          }
        },
        "97aeb0f612ec4f33abb3b98e147b4b9d": {
          "model_module": "@jupyter-widgets/controls",
          "model_name": "DescriptionStyleModel",
          "model_module_version": "1.5.0",
          "state": {
            "_model_module": "@jupyter-widgets/controls",
            "_model_module_version": "1.5.0",
            "_model_name": "DescriptionStyleModel",
            "_view_count": null,
            "_view_module": "@jupyter-widgets/base",
            "_view_module_version": "1.2.0",
            "_view_name": "StyleView",
            "description_width": ""
          }
        },
        "a0f7b7df56a542c881add383154c06e2": {
          "model_module": "@jupyter-widgets/base",
          "model_name": "LayoutModel",
          "model_module_version": "1.2.0",
          "state": {
            "_model_module": "@jupyter-widgets/base",
            "_model_module_version": "1.2.0",
            "_model_name": "LayoutModel",
            "_view_count": null,
            "_view_module": "@jupyter-widgets/base",
            "_view_module_version": "1.2.0",
            "_view_name": "LayoutView",
            "align_content": null,
            "align_items": null,
            "align_self": null,
            "border": null,
            "bottom": null,
            "display": null,
            "flex": null,
            "flex_flow": null,
            "grid_area": null,
            "grid_auto_columns": null,
            "grid_auto_flow": null,
            "grid_auto_rows": null,
            "grid_column": null,
            "grid_gap": null,
            "grid_row": null,
            "grid_template_areas": null,
            "grid_template_columns": null,
            "grid_template_rows": null,
            "height": null,
            "justify_content": null,
            "justify_items": null,
            "left": null,
            "margin": null,
            "max_height": null,
            "max_width": null,
            "min_height": null,
            "min_width": null,
            "object_fit": null,
            "object_position": null,
            "order": null,
            "overflow": null,
            "overflow_x": null,
            "overflow_y": null,
            "padding": null,
            "right": null,
            "top": null,
            "visibility": null,
            "width": null
          }
        },
        "d598dd45970040969e13b8cba6d2e433": {
          "model_module": "@jupyter-widgets/controls",
          "model_name": "ProgressStyleModel",
          "model_module_version": "1.5.0",
          "state": {
            "_model_module": "@jupyter-widgets/controls",
            "_model_module_version": "1.5.0",
            "_model_name": "ProgressStyleModel",
            "_view_count": null,
            "_view_module": "@jupyter-widgets/base",
            "_view_module_version": "1.2.0",
            "_view_name": "StyleView",
            "bar_color": null,
            "description_width": ""
          }
        },
        "4b344d9e2cd84db7a0e8cbd116c79352": {
          "model_module": "@jupyter-widgets/base",
          "model_name": "LayoutModel",
          "model_module_version": "1.2.0",
          "state": {
            "_model_module": "@jupyter-widgets/base",
            "_model_module_version": "1.2.0",
            "_model_name": "LayoutModel",
            "_view_count": null,
            "_view_module": "@jupyter-widgets/base",
            "_view_module_version": "1.2.0",
            "_view_name": "LayoutView",
            "align_content": null,
            "align_items": null,
            "align_self": null,
            "border": null,
            "bottom": null,
            "display": null,
            "flex": null,
            "flex_flow": null,
            "grid_area": null,
            "grid_auto_columns": null,
            "grid_auto_flow": null,
            "grid_auto_rows": null,
            "grid_column": null,
            "grid_gap": null,
            "grid_row": null,
            "grid_template_areas": null,
            "grid_template_columns": null,
            "grid_template_rows": null,
            "height": null,
            "justify_content": null,
            "justify_items": null,
            "left": null,
            "margin": null,
            "max_height": null,
            "max_width": null,
            "min_height": null,
            "min_width": null,
            "object_fit": null,
            "object_position": null,
            "order": null,
            "overflow": null,
            "overflow_x": null,
            "overflow_y": null,
            "padding": null,
            "right": null,
            "top": null,
            "visibility": null,
            "width": null
          }
        },
        "893964bc035e4ac28630960b4d7f1079": {
          "model_module": "@jupyter-widgets/controls",
          "model_name": "DescriptionStyleModel",
          "model_module_version": "1.5.0",
          "state": {
            "_model_module": "@jupyter-widgets/controls",
            "_model_module_version": "1.5.0",
            "_model_name": "DescriptionStyleModel",
            "_view_count": null,
            "_view_module": "@jupyter-widgets/base",
            "_view_module_version": "1.2.0",
            "_view_name": "StyleView",
            "description_width": ""
          }
        }
      }
    }
  },
  "cells": [
    {
      "cell_type": "code",
      "source": [
        "# check GPU\n",
        "!nvidia-smi"
      ],
      "metadata": {
        "colab": {
          "base_uri": "https://localhost:8080/"
        },
        "id": "FxLGbnKdGwxP",
        "outputId": "c5d5780b-115c-4066-cf45-2d0357f44549"
      },
      "execution_count": null,
      "outputs": [
        {
          "output_type": "stream",
          "name": "stdout",
          "text": [
            "Thu Nov 28 20:37:50 2024       \n",
            "+---------------------------------------------------------------------------------------+\n",
            "| NVIDIA-SMI 535.104.05             Driver Version: 535.104.05   CUDA Version: 12.2     |\n",
            "|-----------------------------------------+----------------------+----------------------+\n",
            "| GPU  Name                 Persistence-M | Bus-Id        Disp.A | Volatile Uncorr. ECC |\n",
            "| Fan  Temp   Perf          Pwr:Usage/Cap |         Memory-Usage | GPU-Util  Compute M. |\n",
            "|                                         |                      |               MIG M. |\n",
            "|=========================================+======================+======================|\n",
            "|   0  Tesla T4                       Off | 00000000:00:04.0 Off |                    0 |\n",
            "| N/A   53C    P8              10W /  70W |      0MiB / 15360MiB |      0%      Default |\n",
            "|                                         |                      |                  N/A |\n",
            "+-----------------------------------------+----------------------+----------------------+\n",
            "                                                                                         \n",
            "+---------------------------------------------------------------------------------------+\n",
            "| Processes:                                                                            |\n",
            "|  GPU   GI   CI        PID   Type   Process name                            GPU Memory |\n",
            "|        ID   ID                                                             Usage      |\n",
            "|=======================================================================================|\n",
            "|  No running processes found                                                           |\n",
            "+---------------------------------------------------------------------------------------+\n"
          ]
        }
      ]
    },
    {
      "cell_type": "code",
      "execution_count": null,
      "metadata": {
        "colab": {
          "base_uri": "https://localhost:8080/"
        },
        "id": "YEaYleTmGNiT",
        "outputId": "3bdafb6d-a825-4916-a728-1824406dd0bb"
      },
      "outputs": [
        {
          "output_type": "stream",
          "name": "stdout",
          "text": [
            "Cloning into 'dressing-in-order'...\n",
            "remote: Enumerating objects: 213, done.\u001b[K\n",
            "remote: Counting objects: 100% (213/213), done.\u001b[K\n",
            "remote: Compressing objects: 100% (127/127), done.\u001b[K\n",
            "remote: Total 213 (delta 87), reused 195 (delta 82), pack-reused 0 (from 0)\u001b[K\n",
            "Receiving objects: 100% (213/213), 5.14 MiB | 10.89 MiB/s, done.\n",
            "Resolving deltas: 100% (87/87), done.\n"
          ]
        }
      ],
      "source": [
        "import os\n",
        "!git clone https://github.com/FaresMallouli/ZEN\n",
        "repo_name='ZEN'\n",
        "os.chdir(f'{repo_name}')"
      ]
    },
    {
      "cell_type": "code",
      "source": [
        "!pip install scikit-image==0.18.2\n"
      ],
      "metadata": {
        "colab": {
          "base_uri": "https://localhost:8080/"
        },
        "id": "UoatprfDIh08",
        "outputId": "e3f968bb-5103-4bad-83b4-0fc197cf5994"
      },
      "execution_count": null,
      "outputs": [
        {
          "output_type": "stream",
          "name": "stdout",
          "text": [
            "Collecting scikit-image==0.18.2\n",
            "  Downloading scikit-image-0.18.2.tar.gz (30.8 MB)\n",
            "\u001b[2K     \u001b[90m━━━━━━━━━━━━━━━━━━━━━━━━━━━━━━━━━━━━━━━━\u001b[0m \u001b[32m30.8/30.8 MB\u001b[0m \u001b[31m39.6 MB/s\u001b[0m eta \u001b[36m0:00:00\u001b[0m\n",
            "\u001b[?25h  Installing build dependencies ... \u001b[?25l\u001b[?25hdone\n",
            "  Getting requirements to build wheel ... \u001b[?25l\u001b[?25hdone\n",
            "  Preparing metadata (pyproject.toml) ... \u001b[?25l\u001b[?25hdone\n",
            "Requirement already satisfied: numpy>=1.16.5 in /usr/local/lib/python3.10/dist-packages (from scikit-image==0.18.2) (1.26.4)\n",
            "Requirement already satisfied: scipy>=1.0.1 in /usr/local/lib/python3.10/dist-packages (from scikit-image==0.18.2) (1.13.1)\n",
            "Requirement already satisfied: matplotlib!=3.0.0,>=2.0.0 in /usr/local/lib/python3.10/dist-packages (from scikit-image==0.18.2) (3.8.0)\n",
            "Requirement already satisfied: networkx>=2.0 in /usr/local/lib/python3.10/dist-packages (from scikit-image==0.18.2) (3.4.2)\n",
            "Requirement already satisfied: pillow!=7.1.0,!=7.1.1,>=4.3.0 in /usr/local/lib/python3.10/dist-packages (from scikit-image==0.18.2) (11.0.0)\n",
            "Requirement already satisfied: imageio>=2.3.0 in /usr/local/lib/python3.10/dist-packages (from scikit-image==0.18.2) (2.36.0)\n",
            "Requirement already satisfied: tifffile>=2019.7.26 in /usr/local/lib/python3.10/dist-packages (from scikit-image==0.18.2) (2024.9.20)\n",
            "Collecting PyWavelets>=1.1.1 (from scikit-image==0.18.2)\n",
            "  Downloading pywavelets-1.7.0-cp310-cp310-manylinux_2_17_x86_64.manylinux2014_x86_64.whl.metadata (9.0 kB)\n",
            "Requirement already satisfied: contourpy>=1.0.1 in /usr/local/lib/python3.10/dist-packages (from matplotlib!=3.0.0,>=2.0.0->scikit-image==0.18.2) (1.3.1)\n",
            "Requirement already satisfied: cycler>=0.10 in /usr/local/lib/python3.10/dist-packages (from matplotlib!=3.0.0,>=2.0.0->scikit-image==0.18.2) (0.12.1)\n",
            "Requirement already satisfied: fonttools>=4.22.0 in /usr/local/lib/python3.10/dist-packages (from matplotlib!=3.0.0,>=2.0.0->scikit-image==0.18.2) (4.55.0)\n",
            "Requirement already satisfied: kiwisolver>=1.0.1 in /usr/local/lib/python3.10/dist-packages (from matplotlib!=3.0.0,>=2.0.0->scikit-image==0.18.2) (1.4.7)\n",
            "Requirement already satisfied: packaging>=20.0 in /usr/local/lib/python3.10/dist-packages (from matplotlib!=3.0.0,>=2.0.0->scikit-image==0.18.2) (24.2)\n",
            "Requirement already satisfied: pyparsing>=2.3.1 in /usr/local/lib/python3.10/dist-packages (from matplotlib!=3.0.0,>=2.0.0->scikit-image==0.18.2) (3.2.0)\n",
            "Requirement already satisfied: python-dateutil>=2.7 in /usr/local/lib/python3.10/dist-packages (from matplotlib!=3.0.0,>=2.0.0->scikit-image==0.18.2) (2.8.2)\n",
            "Requirement already satisfied: six>=1.5 in /usr/local/lib/python3.10/dist-packages (from python-dateutil>=2.7->matplotlib!=3.0.0,>=2.0.0->scikit-image==0.18.2) (1.16.0)\n",
            "Downloading pywavelets-1.7.0-cp310-cp310-manylinux_2_17_x86_64.manylinux2014_x86_64.whl (4.5 MB)\n",
            "\u001b[2K   \u001b[90m━━━━━━━━━━━━━━━━━━━━━━━━━━━━━━━━━━━━━━━━\u001b[0m \u001b[32m4.5/4.5 MB\u001b[0m \u001b[31m68.3 MB/s\u001b[0m eta \u001b[36m0:00:00\u001b[0m\n",
            "\u001b[?25hBuilding wheels for collected packages: scikit-image\n",
            "  Building wheel for scikit-image (pyproject.toml) ... \u001b[?25l\u001b[?25hdone\n",
            "  Created wheel for scikit-image: filename=scikit_image-0.18.2-cp310-cp310-linux_x86_64.whl size=36001575 sha256=0b915282d089cdaffb29bf6dff868171285be1d0de41439baa18033a9e9148a7\n",
            "  Stored in directory: /root/.cache/pip/wheels/73/53/00/eda30fe5a356178fa5213b63cfad068bf6d656f3aee86be531\n",
            "Successfully built scikit-image\n",
            "Installing collected packages: PyWavelets, scikit-image\n",
            "  Attempting uninstall: scikit-image\n",
            "    Found existing installation: scikit-image 0.24.0\n",
            "    Uninstalling scikit-image-0.24.0:\n",
            "      Successfully uninstalled scikit-image-0.24.0\n",
            "Successfully installed PyWavelets-1.7.0 scikit-image-0.18.2\n"
          ]
        }
      ]
    },
    {
      "cell_type": "code",
      "source": [
        "!pip install tensorboardX"
      ],
      "metadata": {
        "colab": {
          "base_uri": "https://localhost:8080/"
        },
        "id": "U0m7AZA5VIpC",
        "outputId": "134c3784-bd26-437d-baef-968dfec3e76d"
      },
      "execution_count": null,
      "outputs": [
        {
          "output_type": "stream",
          "name": "stdout",
          "text": [
            "Collecting tensorboardX\n",
            "  Downloading tensorboardX-2.6.2.2-py2.py3-none-any.whl.metadata (5.8 kB)\n",
            "Requirement already satisfied: numpy in /usr/local/lib/python3.10/dist-packages (from tensorboardX) (1.26.4)\n",
            "Requirement already satisfied: packaging in /usr/local/lib/python3.10/dist-packages (from tensorboardX) (24.2)\n",
            "Requirement already satisfied: protobuf>=3.20 in /usr/local/lib/python3.10/dist-packages (from tensorboardX) (4.25.5)\n",
            "Downloading tensorboardX-2.6.2.2-py2.py3-none-any.whl (101 kB)\n",
            "\u001b[?25l   \u001b[90m━━━━━━━━━━━━━━━━━━━━━━━━━━━━━━━━━━━━━━━━\u001b[0m \u001b[32m0.0/101.7 kB\u001b[0m \u001b[31m?\u001b[0m eta \u001b[36m-:--:--\u001b[0m\r\u001b[2K   \u001b[90m━━━━━━━━━━━━━━━━━━━━━━━━━━━━━━━━━━━━━━━━\u001b[0m \u001b[32m101.7/101.7 kB\u001b[0m \u001b[31m3.0 MB/s\u001b[0m eta \u001b[36m0:00:00\u001b[0m\n",
            "\u001b[?25hInstalling collected packages: tensorboardX\n",
            "Successfully installed tensorboardX-2.6.2.2\n"
          ]
        }
      ]
    },
    {
      "cell_type": "markdown",
      "source": [
        "# Step 1: Download Data\n"
      ],
      "metadata": {
        "id": "iaJaN9-dxkFV"
      }
    },
    {
      "cell_type": "code",
      "source": [
        "# download data from https://github.com/yumingj/DeepFashion-MultiModal\n",
        "import os\n",
        "from tqdm.notebook import tqdm\n",
        "\n",
        "if not os.path.exists(\"data/\"):\n",
        "  os.system(\"mkdir data\")\n",
        "\n",
        "def download_from_gdrive(dst_root, fn, gdrive_path, iszip=True):\n",
        "  if not os.path.exists(dst_root):\n",
        "    os.system(\"mkdir {}\".format(dst_root))\n",
        "  if not os.path.exists(\"{}/{}\".format(dst_root, fn)):\n",
        "    os.system(\"gdown {}\".format(gdrive_path))\n",
        "    if iszip:\n",
        "      os.system(\"unzip {}.zip\".format(fn))\n",
        "      os.system(\"rm {}.zip\".format(fn))\n",
        "    os.system(\"mv {} {}/\".format(fn, dst_root))\n",
        "  print(\"download {}.\".format(fn))\n",
        "\n",
        "# download data\n",
        "download_from_gdrive(\"data\", \"testM_lip\", \"1toeQwAe57LNPTy9EWGG0u1XfTI7qv6b1\")\n",
        "download_from_gdrive(\"data\", \"images\", \"1U2PljA7NE57jcSSzPs21ZurdIPXdYZtN\")\n",
        "download_from_gdrive(\"data\",\"fasion-pairs-test.csv\",\"12fZKGf0kIu5OX3mjC-C3tptxrD8sxm7x\",iszip=False)\n",
        "download_from_gdrive(\"data\",\"fasion-annotation-test.csv\",\"1MxkVFFtNsWFshQp_TA7qwIGEUEUIpYdS\",iszip=False)\n",
        "download_from_gdrive(\"data\",\"standard_test_anns.txt\",\"19nJSHrQuoJZ-6cSl3WEYlhQv6ZsAYG-X\",iszip=False)\n",
        "\n",
        "# filter images (exclude training data and rename the files)\n",
        "if not os.path.exists(\"data/test\"):\n",
        "  os.mkdir(\"data/test\")\n",
        "target_fns = [fn[:-4] for fn in os.listdir(\"data/testM_lip\")]\n",
        "for fn in tqdm(os.listdir(\"data/images\")):\n",
        "  elements = fn.split(\"-\")\n",
        "  elements[2] = elements[2].replace(\"_\",\"\")\n",
        "  last_elements = elements[-1].split(\"_\")\n",
        "  elements[-1] = last_elements[0] + \"_\" + last_elements[1] + last_elements[2]\n",
        "  new_fn = \"fashion\"+\"\".join(elements)\n",
        "\n",
        "  if new_fn[:-4] in target_fns:\n",
        "    os.system(\"mv {} {}\".format(\"data/images/\"+fn, \"data/test/\"+new_fn))\n",
        "\n"
      ],
      "metadata": {
        "colab": {
          "base_uri": "https://localhost:8080/",
          "height": 136,
          "referenced_widgets": [
            "935e2cadd48d4af5b42f2be313a35d7b",
            "ee26c8347fbe417bad2fd5755ea8a39b",
            "dbf31bd33b4248b2aefe4f01d74b3ed3",
            "a21ba26ca55c4dbfb4671a2ef7c2d523",
            "1c917ebddc2c4a4ab9763dc787420c8f",
            "10fcd76444a3408d8b6e1e922fd77870",
            "97aeb0f612ec4f33abb3b98e147b4b9d",
            "a0f7b7df56a542c881add383154c06e2",
            "d598dd45970040969e13b8cba6d2e433",
            "4b344d9e2cd84db7a0e8cbd116c79352",
            "893964bc035e4ac28630960b4d7f1079"
          ]
        },
        "id": "q8hcmJInL0ho",
        "outputId": "51d2939c-caa1-4ba0-dc92-1c2f76d5f112"
      },
      "execution_count": null,
      "outputs": [
        {
          "output_type": "stream",
          "name": "stdout",
          "text": [
            "download testM_lip.\n",
            "download images.\n",
            "download fasion-pairs-test.csv.\n",
            "download fasion-annotation-test.csv.\n",
            "download standard_test_anns.txt.\n"
          ]
        },
        {
          "output_type": "display_data",
          "data": {
            "text/plain": [
              "  0%|          | 0/44096 [00:00<?, ?it/s]"
            ],
            "application/vnd.jupyter.widget-view+json": {
              "version_major": 2,
              "version_minor": 0,
              "model_id": "935e2cadd48d4af5b42f2be313a35d7b"
            }
          },
          "metadata": {}
        }
      ]
    },
    {
      "cell_type": "markdown",
      "source": [
        "# Step 2: Load Pre-trained Model"
      ],
      "metadata": {
        "id": "R-CZ6KMscZzN"
      }
    },
    {
      "cell_type": "code",
      "source": [
        "import torch\n",
        "from models.dior_model import DIORModel\n",
        "import os, json\n",
        "import torch.nn.functional as F\n",
        "from PIL import Image\n",
        "import matplotlib.pyplot as plt\n",
        "%matplotlib inline"
      ],
      "metadata": {
        "id": "fOFBTL6sX1tP"
      },
      "execution_count": null,
      "outputs": []
    },
    {
      "cell_type": "code",
      "source": [
        "dataroot = 'data'\n",
        "exp_name = 'DIORv1_64' # DIOR_64\n",
        "epoch = 'latest'\n",
        "netG = 'diorv1' # dior\n",
        "ngf = 64\n",
        "\n",
        "## this is a dummy \"argparse\"\n",
        "class Opt:\n",
        "    def __init__(self):\n",
        "        pass\n",
        "if True:\n",
        "    opt = Opt()\n",
        "    opt.dataroot = dataroot\n",
        "    opt.isTrain = False\n",
        "    opt.phase = 'test'\n",
        "    opt.n_human_parts = 8; opt.n_kpts = 18; opt.style_nc = 64\n",
        "    opt.n_style_blocks = 4; opt.netG = netG; opt.netE = 'adgan'\n",
        "    opt.ngf = ngf\n",
        "    opt.norm_type = 'instance'; opt.relu_type = 'leakyrelu'\n",
        "    opt.init_type = 'orthogonal'; opt.init_gain = 0.02; opt.gpu_ids = [0]\n",
        "    opt.frozen_flownet = True; opt.random_rate = 1; opt.perturb = False; opt.warmup=False\n",
        "    opt.name = exp_name\n",
        "    opt.vgg_path = ''; opt.flownet_path = ''\n",
        "    opt.checkpoints_dir = 'checkpoints'\n",
        "    opt.frozen_enc = True\n",
        "    opt.load_iter = 0\n",
        "    opt.epoch = epoch\n",
        "    opt.verbose = False\n",
        "\n",
        "# create model\n",
        "#os.mkdir(\"checkpoints\")\n",
        "download_from_gdrive(\"checkpoints\", \"DIORv1_64\", \"1MyHq-P0c8zz7ey7p_HTTZKeMie5ZuNlb\")\n",
        "\n",
        "model = DIORModel(opt)\n",
        "model.setup(opt)\n"
      ],
      "metadata": {
        "id": "XnAD8DAHHKcD",
        "colab": {
          "base_uri": "https://localhost:8080/"
        },
        "outputId": "ba557827-44fb-47a3-94c6-8776872ad6e5"
      },
      "execution_count": null,
      "outputs": [
        {
          "output_type": "stream",
          "name": "stdout",
          "text": [
            "download DIORv1_64.\n"
          ]
        },
        {
          "output_type": "stream",
          "name": "stderr",
          "text": [
            "/usr/local/lib/python3.10/dist-packages/torchvision/models/_utils.py:208: UserWarning: The parameter 'pretrained' is deprecated since 0.13 and may be removed in the future, please use 'weights' instead.\n",
            "  warnings.warn(\n",
            "/usr/local/lib/python3.10/dist-packages/torchvision/models/_utils.py:223: UserWarning: Arguments other than a weight enum or `None` for 'weights' are deprecated since 0.13 and may be removed in the future. The current behavior is equivalent to passing `weights=VGG19_Weights.IMAGENET1K_V1`. You can also use `weights=VGG19_Weights.DEFAULT` to get the most up-to-date weights.\n",
            "  warnings.warn(msg)\n",
            "Downloading: \"https://download.pytorch.org/models/vgg19-dcbb9e9d.pth\" to /root/.cache/torch/hub/checkpoints/vgg19-dcbb9e9d.pth\n",
            "100%|██████████| 548M/548M [00:06<00:00, 92.2MB/s]\n"
          ]
        },
        {
          "output_type": "stream",
          "name": "stdout",
          "text": [
            "load vgg ckpt from torchvision dict.\n",
            "[init] init pre-trained model vgg.\n",
            "initialize network with orthogonal\n",
            "initialize network with orthogonal\n",
            "initialize network with kaiming\n",
            "initialize network with orthogonal\n",
            "[init] frozen net netVGG.\n",
            "[init] frozen net netFlow.\n",
            "[init] frozen net netE_attr.\n",
            "[init] frozen net netE_attr.\n",
            "loading the model from checkpoints/DIORv1_64/latest_net_E_attr.pth\n",
            "loading the model from checkpoints/DIORv1_64/latest_net_G.pth\n",
            "not exsits checkpoints/DIORv1_64/latest_net_VGG.pth\n",
            "loading the model from checkpoints/DIORv1_64/latest_net_Flow.pth\n",
            "---------- Networks initialized -------------\n",
            "[Network E_attr] Total number of parameters : 1.191 M\n",
            "[Network G] Total number of parameters : 16.501 M\n",
            "[Network VGG] Total number of parameters : 0.113 M\n",
            "[Network Flow] Total number of parameters : 6.608 M\n",
            "-----------------------------------------------\n",
            "[tensorboard] init tensorboard @ checkpoints/DIORv1_64/test\n"
          ]
        },
        {
          "output_type": "stream",
          "name": "stderr",
          "text": [
            "/content/dressing-in-order/models/base_model.py:311: FutureWarning: You are using `torch.load` with `weights_only=False` (the current default value), which uses the default pickle module implicitly. It is possible to construct malicious pickle data which will execute arbitrary code during unpickling (See https://github.com/pytorch/pytorch/blob/main/SECURITY.md#untrusted-models for more details). In a future release, the default value for `weights_only` will be flipped to `True`. This limits the functions that could be executed during unpickling. Arbitrary objects will no longer be allowed to be loaded via this mode unless they are explicitly allowlisted by the user via `torch.serialization.add_safe_globals`. We recommend you start setting `weights_only=True` for any use case where you don't have full control of the loaded file. Please open an issue on GitHub for any issues related to this experimental feature.\n",
            "  state_dict = torch.load(load_path, map_location=str(self.device))\n"
          ]
        },
        {
          "output_type": "execute_result",
          "data": {
            "text/plain": [
              "-1"
            ]
          },
          "metadata": {},
          "execution_count": 10
        }
      ]
    },
    {
      "cell_type": "code",
      "source": [
        "# load data\n",
        "from datasets.deepfashion_datasets import DFVisualDataset\n",
        "Dataset = DFVisualDataset\n",
        "ds = Dataset(dataroot=dataroot, dim=(256,176), n_human_part=8)\n",
        "\n",
        "# preload a set of pre-selected models defined in \"standard_test_anns.txt\" for quick visualizations\n",
        "inputs = dict()\n",
        "for attr in ds.attr_keys:\n",
        "    inputs[attr] = ds.get_attr_visual_input(attr)\n",
        "\n",
        "# define some tool functions for I/O\n",
        "def load_img(pid, ds):\n",
        "    if len(pid[0]) < 10: # load pre-selected models\n",
        "        person = inputs[pid[0]]\n",
        "        person = (i.cuda() for i in person)\n",
        "        pimg, parse, to_pose = person\n",
        "        pimg, parse, to_pose = pimg[pid[1]], parse[pid[1]], to_pose[pid[1]]\n",
        "    else: # load model from scratch\n",
        "        person = ds.get_inputs_by_key(pid[0])\n",
        "        person = (i.cuda() for i in person)\n",
        "        pimg, parse, to_pose = person\n",
        "    return pimg.squeeze(), parse.squeeze(), to_pose.squeeze()\n",
        "\n",
        "def plot_img(pimg=[], gimgs=[], oimgs=[], gen_img=[], pose=None):\n",
        "    if pose != None:\n",
        "        import utils.pose_utils as pose_utils\n",
        "        print(pose.size())\n",
        "        kpt = pose_utils.draw_pose_from_map(pose.cpu().numpy().transpose(1,2,0),radius=6)\n",
        "        kpt = kpt[0]\n",
        "    if not isinstance(pimg, list):\n",
        "        pimg = [pimg]\n",
        "    if not isinstance(gen_img, list):\n",
        "        gen_img = [gen_img]\n",
        "    out = pimg + gimgs + oimgs + gen_img\n",
        "    if out:\n",
        "        out = torch.cat(out, 2).float().cpu().detach().numpy()\n",
        "        out = (out + 1) / 2 # denormalize\n",
        "        out = np.transpose(out, [1,2,0])\n",
        "\n",
        "        if pose != None:\n",
        "            out = np.concatenate((kpt, out),1)\n",
        "    else:\n",
        "        out = kpt\n",
        "    fig = plt.figure(figsize=(6,4), dpi= 100, facecolor='w', edgecolor='k')\n",
        "    plt.axis('off')\n",
        "    plt.imshow(out)\n",
        "\n",
        "# define dressing-in-order function (the pipeline)\n",
        "def dress_in_order(model, pid, pose_id=None, gids=[], ogids=[], order=[5,1,3,2], perturb=False):\n",
        "    PID = [0,4,6,7]\n",
        "    GID = [2,5,1,3]\n",
        "    # encode person\n",
        "    pimg, parse, from_pose = load_img(pid, ds)\n",
        "    if perturb:\n",
        "        pimg = perturb_images(pimg[None])[0]\n",
        "    if not pose_id:\n",
        "        to_pose = from_pose\n",
        "    else:\n",
        "        to_img, _, to_pose = load_img(pose_id, ds)\n",
        "    psegs = model.encode_attr(pimg[None], parse[None], from_pose[None], to_pose[None], PID)\n",
        "\n",
        "    # encode base garments\n",
        "    gsegs = model.encode_attr(pimg[None], parse[None], from_pose[None], to_pose[None])\n",
        "\n",
        "\n",
        "    # swap base garment if any\n",
        "    gimgs = []\n",
        "    for gid in gids:\n",
        "        _,_,k = gid\n",
        "        gimg, gparse, pose =  load_img(gid, ds)\n",
        "        seg = model.encode_single_attr(gimg[None], gparse[None], pose[None], to_pose[None], i=gid[2])\n",
        "        gsegs[gid[2]] = seg\n",
        "        gimgs += [gimg * (gparse == gid[2])]\n",
        "\n",
        "    # encode garment (overlay)\n",
        "    garments = []\n",
        "    over_gsegs = []\n",
        "    oimgs = []\n",
        "    for gid in ogids:\n",
        "        oimg, oparse, pose = load_img(gid, ds)\n",
        "        oimgs += [oimg * (oparse == gid[2])]\n",
        "        seg = model.encode_single_attr(oimg[None], oparse[None], pose[None], to_pose[None], i=gid[2])\n",
        "        over_gsegs += [seg]\n",
        "\n",
        "    gsegs = [gsegs[i] for i in order] + over_gsegs\n",
        "    gen_img = model.netG(to_pose[None], psegs, gsegs)\n",
        "\n",
        "    return pimg, gimgs, oimgs, gen_img[0], to_pose\n",
        "\n"
      ],
      "metadata": {
        "id": "eW-7_qnVYOky"
      },
      "execution_count": null,
      "outputs": []
    },
    {
      "cell_type": "markdown",
      "source": [
        "\n",
        "\n",
        "- 'top':5, # dress is also considered as top.\n",
        "- 'bottom':1,\n",
        "- 'hair':2,\n",
        "- 'jacket':3\n"
      ],
      "metadata": {
        "id": "xKY9RFe9icn6"
      }
    },
    {
      "cell_type": "code",
      "source": [
        "import matplotlib.pyplot as plt\n",
        "%matplotlib inline\n",
        "import numpy as np"
      ],
      "metadata": {
        "id": "xHQCWjHo8AhM"
      },
      "execution_count": null,
      "outputs": []
    },
    {
      "cell_type": "markdown",
      "source": [
        "## Virtual Try-On\n",
        "\n",
        "Users can control the tuck-in and tuck-out results when there is overlap between the top garment and the bottom garment."
      ],
      "metadata": {
        "id": "Krq8Rf4vaeNE"
      }
    },
    {
      "cell_type": "code",
      "source": [
        "# person id\n",
        "pid = (\"fashionWOMENTees_Tanksid0000789802_1front.jpg\", None , None) # load person from the file\n",
        "\n",
        "# garments to try on (ordered)\n",
        "gids = [\n",
        "    (\"fashionWOMENTees_Tanksid0000334328_1front.jpg\",None,5),\n",
        "    (\"fashionWOMENTees_Tanksid0000699110_1front.jpg\",None,1),\n",
        "       ]\n",
        "\n",
        "\n",
        "\n",
        "# dressing in order\n",
        "pimg, gimgs, oimgs, gen_img, pose = dress_in_order(model, pid=pid, gids=gids)\n",
        "plot_img(pimg, gimgs, oimgs, gen_img, pose)"
      ],
      "metadata": {
        "colab": {
          "base_uri": "https://localhost:8080/",
          "height": 207
        },
        "id": "KuMRvu9ceZvT",
        "outputId": "73fd2faa-de5e-414b-d90f-fd4c3772f2dc"
      },
      "execution_count": null,
      "outputs": [
        {
          "output_type": "stream",
          "name": "stderr",
          "text": [
            "WARNING:matplotlib.image:Clipping input data to the valid range for imshow with RGB data ([0..1] for floats or [0..255] for integers).\n"
          ]
        },
        {
          "output_type": "stream",
          "name": "stdout",
          "text": [
            "torch.Size([18, 256, 176])\n"
          ]
        },
        {
          "output_type": "display_data",
          "data": {
            "text/plain": [
              "<Figure size 600x400 with 1 Axes>"
            ],
            "image/png": "[encoded data removed]"
          },
          "metadata": {}
        }
      ]
    }
  ]
}